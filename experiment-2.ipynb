{
 "cells": [
  {
   "cell_type": "code",
   "execution_count": 1,
   "metadata": {},
   "outputs": [],
   "source": [
    "from MCNN import MCNN\n",
    "import torchvision\n",
    "from pathlib import Path"
   ]
  },
  {
   "cell_type": "code",
   "execution_count": 2,
   "metadata": {},
   "outputs": [
    {
     "ename": "TypeError",
     "evalue": "'module' object is not callable",
     "output_type": "error",
     "traceback": [
      "\u001b[0;31m---------------------------------------------------------------------------\u001b[0m",
      "\u001b[0;31mTypeError\u001b[0m                                 Traceback (most recent call last)",
      "Cell \u001b[0;32mIn [2], line 2\u001b[0m\n\u001b[1;32m      1\u001b[0m image \u001b[39m=\u001b[39m torchvision\u001b[39m.\u001b[39mio\u001b[39m.\u001b[39mread_image(\u001b[39mstr\u001b[39m(Path(\u001b[39m'\u001b[39m\u001b[39massets\u001b[39m\u001b[39m'\u001b[39m) \u001b[39m/\u001b[39m \u001b[39m'\u001b[39m\u001b[39mkid_dog_adult.jpg\u001b[39m\u001b[39m'\u001b[39m))\n\u001b[0;32m----> 2\u001b[0m mcnn \u001b[39m=\u001b[39m MCNN(\u001b[39m10\u001b[39;49m, (\u001b[39m224\u001b[39;49m,\u001b[39m224\u001b[39;49m))\n\u001b[1;32m      3\u001b[0m mcnn\u001b[39m.\u001b[39mutils\u001b[39m.\u001b[39mplot_image(image, mcnn\u001b[39m.\u001b[39mr_maps[\u001b[39m5\u001b[39m])\n",
      "File \u001b[0;32m~/Projects/montecarlo-cnn-vision/MCNN.py:34\u001b[0m, in \u001b[0;36mMCNN.__init__\u001b[0;34m(self, n, size, ommit_progress)\u001b[0m\n\u001b[1;32m     32\u001b[0m \u001b[39mdef\u001b[39;00m \u001b[39m__init__\u001b[39m(\u001b[39mself\u001b[39m, n:\u001b[39mint\u001b[39m, size:\u001b[39mtuple\u001b[39m, ommit_progress:\u001b[39mbool\u001b[39m\u001b[39m=\u001b[39m\u001b[39mFalse\u001b[39;00m):\n\u001b[1;32m     33\u001b[0m     \u001b[39mself\u001b[39m\u001b[39m.\u001b[39msize \u001b[39m=\u001b[39m size\n\u001b[0;32m---> 34\u001b[0m     \u001b[39mself\u001b[39m\u001b[39m.\u001b[39mr_maps \u001b[39m=\u001b[39m \u001b[39mself\u001b[39;49m\u001b[39m.\u001b[39;49m__RandomMaps(n, size, ommit_progress)\n\u001b[1;32m     35\u001b[0m     \u001b[39mself\u001b[39m\u001b[39m.\u001b[39msolution \u001b[39m=\u001b[39m []\n\u001b[1;32m     36\u001b[0m     \u001b[39mself\u001b[39m\u001b[39m.\u001b[39mommit_progress \u001b[39m=\u001b[39m ommit_progress\n",
      "File \u001b[0;32m~/Projects/montecarlo-cnn-vision/MCNN.py:98\u001b[0m, in \u001b[0;36mMCNN.__RandomMaps.__init__\u001b[0;34m(self, n, size, ommit_progress)\u001b[0m\n\u001b[1;32m     95\u001b[0m \u001b[39mself\u001b[39m\u001b[39m.\u001b[39mr_maps\u001b[39m.\u001b[39mappend(torch\u001b[39m.\u001b[39mones(size)\u001b[39m.\u001b[39mto(device))\n\u001b[1;32m     97\u001b[0m \u001b[39m# Other maps are mask 'blobs'\u001b[39;00m\n\u001b[0;32m---> 98\u001b[0m \u001b[39mfor\u001b[39;00m i \u001b[39min\u001b[39;00m tqdm(\u001b[39mrange\u001b[39;49m(n\u001b[39m-\u001b[39;49m\u001b[39m1\u001b[39;49m), desc\u001b[39m=\u001b[39;49m\u001b[39m\"\u001b[39;49m\u001b[39mGenerating random masks\u001b[39;49m\u001b[39m\"\u001b[39;49m, disable\u001b[39m=\u001b[39;49m\u001b[39mself\u001b[39;49m\u001b[39m.\u001b[39;49mommit_progress):\n\u001b[1;32m     99\u001b[0m     \u001b[39m# define random seed to change the pattern\u001b[39;00m\n\u001b[1;32m    100\u001b[0m     rng \u001b[39m=\u001b[39m np\u001b[39m.\u001b[39mrandom\u001b[39m.\u001b[39mdefault_rng()\n\u001b[1;32m    101\u001b[0m     \u001b[39m# create random noise image\u001b[39;00m\n",
      "\u001b[0;31mTypeError\u001b[0m: 'module' object is not callable"
     ]
    }
   ],
   "source": [
    "image = torchvision.io.read_image(str(Path('assets') / 'kid_dog_adult.jpg'))\n",
    "mcnn = MCNN(10, (224,224), ommit_progress=False)\n",
    "mcnn.utils.plot_image(image, mcnn.r_maps[5])"
   ]
  },
  {
   "cell_type": "code",
   "execution_count": null,
   "metadata": {},
   "outputs": [],
   "source": [
    "from torchvision.models import vgg16, VGG16_Weights\n",
    "\n",
    "weights = VGG16_Weights.DEFAULT\n",
    "model = vgg16(weights=weights, progress=False)\n",
    "transforms = weights.transforms()\n",
    "\n",
    "mcnn.simulate(image, model, transforms)"
   ]
  },
  {
   "cell_type": "code",
   "execution_count": null,
   "metadata": {},
   "outputs": [],
   "source": []
  },
  {
   "cell_type": "code",
   "execution_count": null,
   "metadata": {},
   "outputs": [],
   "source": []
  }
 ],
 "metadata": {
  "kernelspec": {
   "display_name": "Python 3 (ipykernel)",
   "language": "python",
   "name": "python3"
  },
  "language_info": {
   "codemirror_mode": {
    "name": "ipython",
    "version": 3
   },
   "file_extension": ".py",
   "mimetype": "text/x-python",
   "name": "python",
   "nbconvert_exporter": "python",
   "pygments_lexer": "ipython3",
   "version": "3.8.10"
  },
  "vscode": {
   "interpreter": {
    "hash": "2b0b31411f2f8196d00de8702680646536d6ec629f2cdc85903352e6084cbdc5"
   }
  }
 },
 "nbformat": 4,
 "nbformat_minor": 2
}
